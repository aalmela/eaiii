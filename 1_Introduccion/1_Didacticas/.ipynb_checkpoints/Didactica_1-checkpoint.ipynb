{
 "cells": [
  {
   "cell_type": "markdown",
   "id": "42b12fd7",
   "metadata": {},
   "source": [
    "\n",
    "## Receptor superheterodino\n",
    "\n",
    "Para sintonizar distintas frecuencias, se utiliza una etapa mezcladora junto con un oscilador local. Este último es el encargado de seleccionar la frecuencia que se desea recibir.\n",
    "\n",
    "El principio de funcionamiento consiste en convertir todas las frecuencias de entrada a una única frecuencia fija llamada **Frecuencia Intermedia (FI)**. Esto permite que el receptor pueda operar con un único demodulador, concentrando el mayor esfuerzo de amplificación y filtrado en la FI.\n",
    "\n",
    "La sintonía se logra modificando la frecuencia del oscilador local y la del filtro de entrada (en caso de un rango amplio de frecuencias).\n",
    "\n",
    "### Superheterodino\n",
    "\n",
    "Un receptor superheterodino se diferencia del heterodino simple por incluir mejoras como:\n",
    "- Un amplificador de RF de entrada.\n",
    "- Un circuito de control automático de ganancia (AGC).\n",
    "- Etapas adicionales que optimizan el rendimiento.\n",
    "\n",
    "Se clasifican principalmente en:\n",
    "- Receptores de **simple conversión**\n",
    "- Receptores de **doble conversión**\n",
    "\n",
    "#### Receptor superheterodino de simple conversión\n",
    "\n",
    "El siguiente es el diagrama en bloques típico de este tipo de receptor:\n",
    "\n",
    "![1022](fig/SuperHeterodino1.png)\n"
   ]
  }
 ],
 "metadata": {
  "kernelspec": {
   "display_name": "Python 3 (ipykernel)",
   "language": "python",
   "name": "python3"
  },
  "language_info": {
   "codemirror_mode": {
    "name": "ipython",
    "version": 3
   },
   "file_extension": ".py",
   "mimetype": "text/x-python",
   "name": "python",
   "nbconvert_exporter": "python",
   "pygments_lexer": "ipython3",
   "version": "3.12.3"
  }
 },
 "nbformat": 4,
 "nbformat_minor": 5
}
