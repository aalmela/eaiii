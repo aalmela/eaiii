{
 "cells": [
  {
   "cell_type": "markdown",
   "id": "60531674",
   "metadata": {},
   "source": [
    "## Enfoque Didáctico del Laboratorio\n",
    "\n",
    "El laboratorio propone construir un radar funcional dividido en seis bloques, permitiendo abordar tanto la teoría como la práctica de sistemas de RF, diseño de circuitos de microondas, modelado, simulación, fabricación y medición. Cada bloque representa una etapa crítica en el procesamiento de la señal del radar y se estudia en profundidad de forma individual y luego como parte del sistema completo.\n",
    "\n",
    "Los bloques son los siguientes:\n",
    "1. **Amplificador de banda base**\n",
    "2. **Amplificador de bajo ruido (LNA)**\n",
    "3. **Acoplador direccional**\n",
    "4. **Amplificador de potencia (PA)**\n",
    "5. **Oscilador controlado por tensión (VCO)**\n",
    "6. **Mezclador**\n",
    "\n",
    "Cada uno fue diseñado tomando como referencia una **nota de aplicación industrial** que refleja prácticas reales del diseño electrónico de RF. Esto permite a los estudiantes trabajar con documentación técnica profesional, interpretar hojas de datos, adaptar diseños, realizar simulaciones (por ejemplo, en ADS) y validar el funcionamiento de los circuitos fabricados.\n",
    "\n",
    "Además, se contemplan aspectos prácticos como:\n",
    "- Uso de componentes discretos soldables manualmente.\n",
    "- Trazado de líneas de transmisión en PCB.\n",
    "- Montaje y medición de parámetros como ganancia, figura de ruido, aislamiento, compresión y eficiencia.\n",
    "\n",
    "Este enfoque brinda una experiencia completa e integradora, permitiendo a los estudiantes comprender cómo se estructura y funciona un sistema radar moderno y cómo se aplica la teoría de RF en un entorno experimental real.\n",
    "\n",
    "## Visión general del sistema:\n",
    "\n",
    "El sistema desarrollado en este proyecto corresponde a un radar de onda continua modulada en frecuencia (FMCW) que opera en la banda ISM cercana a los 900 MHz, diseñado con el objetivo de ser implementado y evaluado en el contexto de un laboratorio universitario. El radar se compone de seis bloques funcionales, cada uno de los cuales se diseñó y simuló utilizando notas de aplicación de referencia, permitiendo así un enfoque modular y didáctico. A continuación se describen brevemente los bloques que conforman el sistema:\n",
    "\n",
    "### [1. Amplificador de Banda Base](./1_teoria/1_Amplificador_Banda_Base/Teoria.ipynb)\n",
    "Este bloque amplifica la señal IF resultante del mezclador, que contiene la información de distancia y/o velocidad del objetivo. Se diseñó con bajo ruido, buena linealidad y respuesta adecuada a las frecuencias de interés (hasta algunos cientos de kHz o pocos MHz), permitiendo su posterior digitalización y procesamiento.\n",
    "\n",
    "\n",
    "### [2. Amplificador de Bajo Ruido (LNA)](./1_teoria/2_Amplificador_Bajo_Ruido/Teoria.ipynb)\n",
    "Este bloque se encarga de amplificar la señal reflejada captada por la antena receptora, preservando una buena relación señal-ruido. Se diseñó siguiendo la nota de aplicación **AN11432**, que describe un LNA para la banda ISM (866 MHz) basado en el transistor **BFU550**. Se priorizó la baja figura de ruido (NF < 1.4 dB), una ganancia de aproximadamente 13 dB y bajo consumo para aplicaciones portátiles o alimentadas por batería.\n",
    "\n",
    "### 3. Acoplador Direccional\n",
    "El acoplador direccional divide la señal del VCO en dos caminos: uno hacia el amplificador de potencia y otro hacia el mezclador como LO. También permite medir señales reflejadas sin interrumpir la transmisión. Se utilizó un diseño de tipo microstrip con acoplamiento lateral (edge-coupled), común en aplicaciones de radar por su simplicidad e integración en PCB.\n",
    "\n",
    "### [4. Amplificador de Potencia (PA)](./1_teoria/4_Amplificador_Potencia/Teoria.ipynb)\n",
    "Encargado de amplificar la señal generada por el oscilador antes de ser transmitida por la antena. Se basó en la nota de aplicación **AN11502**, que presenta un diseño para la banda ISM utilizando el transistor **BFU590Q**. Este bloque se diseñó para alcanzar una ganancia de ~10 dB y una potencia de salida en compresión de 1 dB superior a 26 dBm, con una eficiencia mayor al 55%.\n",
    "\n",
    "### [5. Oscilador Controlado por Tensión (VCO)](./1_teoria/5_Oscilador_Controlador_Tension/Teoria.ipynb)\n",
    "El VCO genera la señal de RF cuya frecuencia varía en función de una rampa de tensión, permitiendo la modulación lineal necesaria para el funcionamiento FMCW. Se tomó como base el documento **\"High Frequency VCO Design and Schematics\"** de Iulian Rosu, donde se analizan distintas topologías como Colpitts y Hartley, con recomendaciones específicas para minimizar el ruido de fase y efectos no lineales en osciladores varactor-tuned.\n",
    "\n",
    "### 6. Mezclador\n",
    "Este bloque recibe la señal reflejada y la compara con una copia de la señal transmitida (oscilador local), generando una señal de frecuencia intermedia (IF) proporcional al retardo, de donde se extrae información de distancia. Se basó en la nota **AN1808** de Infineon, que presenta un mezclador de diodos Schottky del tipo **BAT15-04W**, con configuración de anillo híbrido (rat-race) para implementar un mezclador balanceado de alto desempeño.\n",
    "\n",
    "\n",
    "\n",
    "Cada uno de estos bloques fue diseñado, simulado, fabricado y caracterizado experimentalmente, permitiendo comprender su funcionamiento individual y su integración en un sistema de radar completo.\n",
    "\n"
   ]
  },
  {
   "cell_type": "code",
   "execution_count": null,
   "id": "3d8ec6c2",
   "metadata": {},
   "outputs": [],
   "source": []
  },
  {
   "cell_type": "code",
   "execution_count": null,
   "id": "d4326ef8-ec47-4266-ba78-4abb413de0e2",
   "metadata": {},
   "outputs": [],
   "source": []
  }
 ],
 "metadata": {
  "kernelspec": {
   "display_name": "Python 3 (ipykernel)",
   "language": "python",
   "name": "python3"
  },
  "language_info": {
   "codemirror_mode": {
    "name": "ipython",
    "version": 3
   },
   "file_extension": ".py",
   "mimetype": "text/x-python",
   "name": "python",
   "nbconvert_exporter": "python",
   "pygments_lexer": "ipython3",
   "version": "3.12.3"
  }
 },
 "nbformat": 4,
 "nbformat_minor": 5
}
